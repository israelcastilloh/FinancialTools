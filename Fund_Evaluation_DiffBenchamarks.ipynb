{
 "cells": [
  {
   "cell_type": "code",
   "execution_count": 2,
   "metadata": {},
   "outputs": [
    {
     "name": "stderr",
     "output_type": "stream",
     "text": [
      "/Users/israelcastillo/opt/anaconda3/lib/python3.7/site-packages/pandas_datareader/compat/__init__.py:7: FutureWarning: pandas.util.testing is deprecated. Use the functions in the public API at pandas.testing instead.\n",
      "  from pandas.util.testing import assert_frame_equal\n"
     ]
    }
   ],
   "source": [
    "# Importar paquetes\n",
    "import numpy as np\n",
    "import matplotlib.pyplot as plt\n",
    "%matplotlib inline\n",
    "import pandas as pd\n",
    "pd.core.common.is_list_like = pd.api.types.is_list_like\n",
    "import pandas_datareader.data as web\n",
    "import scipy.optimize as opt\n",
    "import math\n",
    "import scipy.stats as stats\n",
    "\n"
   ]
  },
  {
   "cell_type": "code",
   "execution_count": 3,
   "metadata": {},
   "outputs": [],
   "source": [
    "# Función para descargar precios de cierre ajustados de varios activos a la vez:\n",
    "def get_closes(tickers, start_date=None, end_date=None, freq=None):\n",
    "    # Fecha inicio por defecto (start_date='2010-01-01') y fecha fin por defecto (end_date=today)\n",
    "    # Frecuencia de muestreo por defecto (freq='d')\n",
    "    # Importamos paquetes necesarios\n",
    "    import pandas as pd\n",
    "    pd.core.common.is_list_like = pd.api.types.is_list_like\n",
    "    import pandas_datareader.data as web  \n",
    "    # Creamos DataFrame vacío de precios, con el índice de las fechas\n",
    "    closes = pd.DataFrame(columns = tickers, index=web.YahooDailyReader(symbols=tickers[0], start=start_date, end=end_date, interval=freq).read().index)\n",
    "    # Agregamos cada uno de los precios con YahooDailyReader\n",
    "    for ticker in tickers:\n",
    "        df = web.YahooDailyReader(symbols=ticker, start=start_date, end=end_date, interval=freq).read()\n",
    "        closes[ticker]=df['Adj Close']\n",
    "    closes.index_name = 'Date'\n",
    "    closes = closes.sort_index()\n",
    "    return closes"
   ]
  },
  {
   "cell_type": "code",
   "execution_count": 13,
   "metadata": {},
   "outputs": [],
   "source": [
    "# Información\n",
    "ticker= ['^GSPC', 'MNKS.L', '^TNX'] \n",
    "start, end= '2016-04-21', '2020-04-23'"
   ]
  },
  {
   "cell_type": "code",
   "execution_count": 14,
   "metadata": {},
   "outputs": [
    {
     "data": {
      "text/html": [
       "<div>\n",
       "<style scoped>\n",
       "    .dataframe tbody tr th:only-of-type {\n",
       "        vertical-align: middle;\n",
       "    }\n",
       "\n",
       "    .dataframe tbody tr th {\n",
       "        vertical-align: top;\n",
       "    }\n",
       "\n",
       "    .dataframe thead th {\n",
       "        text-align: right;\n",
       "    }\n",
       "</style>\n",
       "<table border=\"1\" class=\"dataframe\">\n",
       "  <thead>\n",
       "    <tr style=\"text-align: right;\">\n",
       "      <th></th>\n",
       "      <th>^GSPC</th>\n",
       "      <th>MNKS.L</th>\n",
       "      <th>^TNX</th>\n",
       "    </tr>\n",
       "    <tr>\n",
       "      <th>Date</th>\n",
       "      <th></th>\n",
       "      <th></th>\n",
       "      <th></th>\n",
       "    </tr>\n",
       "  </thead>\n",
       "  <tbody>\n",
       "    <tr>\n",
       "      <th>2016-04-21</th>\n",
       "      <td>2091.479980</td>\n",
       "      <td>427.884857</td>\n",
       "      <td>1.870</td>\n",
       "    </tr>\n",
       "    <tr>\n",
       "      <th>2016-04-22</th>\n",
       "      <td>2091.580078</td>\n",
       "      <td>424.284973</td>\n",
       "      <td>1.888</td>\n",
       "    </tr>\n",
       "    <tr>\n",
       "      <th>2016-04-25</th>\n",
       "      <td>2087.790039</td>\n",
       "      <td>425.984924</td>\n",
       "      <td>1.902</td>\n",
       "    </tr>\n",
       "    <tr>\n",
       "      <th>2016-04-26</th>\n",
       "      <td>2091.699951</td>\n",
       "      <td>426.984863</td>\n",
       "      <td>1.931</td>\n",
       "    </tr>\n",
       "    <tr>\n",
       "      <th>2016-04-27</th>\n",
       "      <td>2095.149902</td>\n",
       "      <td>429.584808</td>\n",
       "      <td>1.860</td>\n",
       "    </tr>\n",
       "    <tr>\n",
       "      <th>...</th>\n",
       "      <td>...</td>\n",
       "      <td>...</td>\n",
       "      <td>...</td>\n",
       "    </tr>\n",
       "    <tr>\n",
       "      <th>2020-04-17</th>\n",
       "      <td>2874.560059</td>\n",
       "      <td>890.000000</td>\n",
       "      <td>0.654</td>\n",
       "    </tr>\n",
       "    <tr>\n",
       "      <th>2020-04-20</th>\n",
       "      <td>2823.159912</td>\n",
       "      <td>898.000000</td>\n",
       "      <td>0.626</td>\n",
       "    </tr>\n",
       "    <tr>\n",
       "      <th>2020-04-21</th>\n",
       "      <td>2736.560059</td>\n",
       "      <td>867.000000</td>\n",
       "      <td>0.571</td>\n",
       "    </tr>\n",
       "    <tr>\n",
       "      <th>2020-04-22</th>\n",
       "      <td>2799.310059</td>\n",
       "      <td>888.000000</td>\n",
       "      <td>0.619</td>\n",
       "    </tr>\n",
       "    <tr>\n",
       "      <th>2020-04-23</th>\n",
       "      <td>2797.800049</td>\n",
       "      <td>894.000000</td>\n",
       "      <td>0.613</td>\n",
       "    </tr>\n",
       "  </tbody>\n",
       "</table>\n",
       "<p>1009 rows × 3 columns</p>\n",
       "</div>"
      ],
      "text/plain": [
       "                  ^GSPC      MNKS.L   ^TNX\n",
       "Date                                      \n",
       "2016-04-21  2091.479980  427.884857  1.870\n",
       "2016-04-22  2091.580078  424.284973  1.888\n",
       "2016-04-25  2087.790039  425.984924  1.902\n",
       "2016-04-26  2091.699951  426.984863  1.931\n",
       "2016-04-27  2095.149902  429.584808  1.860\n",
       "...                 ...         ...    ...\n",
       "2020-04-17  2874.560059  890.000000  0.654\n",
       "2020-04-20  2823.159912  898.000000  0.626\n",
       "2020-04-21  2736.560059  867.000000  0.571\n",
       "2020-04-22  2799.310059  888.000000  0.619\n",
       "2020-04-23  2797.800049  894.000000  0.613\n",
       "\n",
       "[1009 rows x 3 columns]"
      ]
     },
     "execution_count": 14,
     "metadata": {},
     "output_type": "execute_result"
    }
   ],
   "source": [
    "# Precios diarios\n",
    "daily_closes = get_closes(ticker, start, end, freq='d') #d define es diario\n",
    "daily_closes"
   ]
  },
  {
   "cell_type": "code",
   "execution_count": 15,
   "metadata": {},
   "outputs": [
    {
     "data": {
      "image/png": "[encoded data removed]",
      "text/plain": [
       "<Figure size 576x432 with 1 Axes>"
      ]
     },
     "metadata": {
      "needs_background": "light"
     },
     "output_type": "display_data"
    }
   ],
   "source": [
    "# Gráfico de histórico de precios diarios\n",
    "daily_closes.plot(figsize=(8,6));"
   ]
  },
  {
   "cell_type": "code",
   "execution_count": 16,
   "metadata": {},
   "outputs": [
    {
     "data": {
      "text/html": [
       "<div>\n",
       "<style scoped>\n",
       "    .dataframe tbody tr th:only-of-type {\n",
       "        vertical-align: middle;\n",
       "    }\n",
       "\n",
       "    .dataframe tbody tr th {\n",
       "        vertical-align: top;\n",
       "    }\n",
       "\n",
       "    .dataframe thead th {\n",
       "        text-align: right;\n",
       "    }\n",
       "</style>\n",
       "<table border=\"1\" class=\"dataframe\">\n",
       "  <thead>\n",
       "    <tr style=\"text-align: right;\">\n",
       "      <th></th>\n",
       "      <th>^GSPC</th>\n",
       "      <th>MNKS.L</th>\n",
       "      <th>^TNX</th>\n",
       "    </tr>\n",
       "    <tr>\n",
       "      <th>Date</th>\n",
       "      <th></th>\n",
       "      <th></th>\n",
       "      <th></th>\n",
       "    </tr>\n",
       "  </thead>\n",
       "  <tbody>\n",
       "    <tr>\n",
       "      <th>2016-04-22</th>\n",
       "      <td>0.000048</td>\n",
       "      <td>-0.008449</td>\n",
       "      <td>0.009580</td>\n",
       "    </tr>\n",
       "    <tr>\n",
       "      <th>2016-04-25</th>\n",
       "      <td>-0.001814</td>\n",
       "      <td>0.003999</td>\n",
       "      <td>0.007388</td>\n",
       "    </tr>\n",
       "    <tr>\n",
       "      <th>2016-04-26</th>\n",
       "      <td>0.001871</td>\n",
       "      <td>0.002345</td>\n",
       "      <td>0.015132</td>\n",
       "    </tr>\n",
       "    <tr>\n",
       "      <th>2016-04-27</th>\n",
       "      <td>0.001648</td>\n",
       "      <td>0.006071</td>\n",
       "      <td>-0.037462</td>\n",
       "    </tr>\n",
       "    <tr>\n",
       "      <th>2016-04-28</th>\n",
       "      <td>-0.009274</td>\n",
       "      <td>-0.005602</td>\n",
       "      <td>-0.011898</td>\n",
       "    </tr>\n",
       "    <tr>\n",
       "      <th>...</th>\n",
       "      <td>...</td>\n",
       "      <td>...</td>\n",
       "      <td>...</td>\n",
       "    </tr>\n",
       "    <tr>\n",
       "      <th>2020-04-17</th>\n",
       "      <td>0.026441</td>\n",
       "      <td>0.030807</td>\n",
       "      <td>0.071289</td>\n",
       "    </tr>\n",
       "    <tr>\n",
       "      <th>2020-04-20</th>\n",
       "      <td>-0.018043</td>\n",
       "      <td>0.008949</td>\n",
       "      <td>-0.043757</td>\n",
       "    </tr>\n",
       "    <tr>\n",
       "      <th>2020-04-21</th>\n",
       "      <td>-0.031155</td>\n",
       "      <td>-0.035131</td>\n",
       "      <td>-0.091961</td>\n",
       "    </tr>\n",
       "    <tr>\n",
       "      <th>2020-04-22</th>\n",
       "      <td>0.022671</td>\n",
       "      <td>0.023933</td>\n",
       "      <td>0.080716</td>\n",
       "    </tr>\n",
       "    <tr>\n",
       "      <th>2020-04-23</th>\n",
       "      <td>-0.000540</td>\n",
       "      <td>0.006734</td>\n",
       "      <td>-0.009740</td>\n",
       "    </tr>\n",
       "  </tbody>\n",
       "</table>\n",
       "<p>958 rows × 3 columns</p>\n",
       "</div>"
      ],
      "text/plain": [
       "               ^GSPC    MNKS.L      ^TNX\n",
       "Date                                    \n",
       "2016-04-22  0.000048 -0.008449  0.009580\n",
       "2016-04-25 -0.001814  0.003999  0.007388\n",
       "2016-04-26  0.001871  0.002345  0.015132\n",
       "2016-04-27  0.001648  0.006071 -0.037462\n",
       "2016-04-28 -0.009274 -0.005602 -0.011898\n",
       "...              ...       ...       ...\n",
       "2020-04-17  0.026441  0.030807  0.071289\n",
       "2020-04-20 -0.018043  0.008949 -0.043757\n",
       "2020-04-21 -0.031155 -0.035131 -0.091961\n",
       "2020-04-22  0.022671  0.023933  0.080716\n",
       "2020-04-23 -0.000540  0.006734 -0.009740\n",
       "\n",
       "[958 rows x 3 columns]"
      ]
     },
     "execution_count": 16,
     "metadata": {},
     "output_type": "execute_result"
    }
   ],
   "source": [
    "daily_logret = np.log(daily_closes/daily_closes.shift()).dropna()\n",
    "daily_logret"
   ]
  },
  {
   "cell_type": "code",
   "execution_count": 17,
   "metadata": {},
   "outputs": [
    {
     "data": {
      "text/html": [
       "<div>\n",
       "<style scoped>\n",
       "    .dataframe tbody tr th:only-of-type {\n",
       "        vertical-align: middle;\n",
       "    }\n",
       "\n",
       "    .dataframe tbody tr th {\n",
       "        vertical-align: top;\n",
       "    }\n",
       "\n",
       "    .dataframe thead th {\n",
       "        text-align: right;\n",
       "    }\n",
       "</style>\n",
       "<table border=\"1\" class=\"dataframe\">\n",
       "  <thead>\n",
       "    <tr style=\"text-align: right;\">\n",
       "      <th></th>\n",
       "      <th>^GSPC</th>\n",
       "      <th>MNKS.L</th>\n",
       "      <th>^TNX</th>\n",
       "    </tr>\n",
       "  </thead>\n",
       "  <tbody>\n",
       "    <tr>\n",
       "      <th>Media Diaria 2016-2020</th>\n",
       "      <td>0.0002</td>\n",
       "      <td>0.0008</td>\n",
       "      <td>-0.0012</td>\n",
       "    </tr>\n",
       "    <tr>\n",
       "      <th>Volatilidad Diaria 2016-2020</th>\n",
       "      <td>0.0123</td>\n",
       "      <td>0.2131</td>\n",
       "      <td>0.0354</td>\n",
       "    </tr>\n",
       "  </tbody>\n",
       "</table>\n",
       "</div>"
      ],
      "text/plain": [
       "                               ^GSPC  MNKS.L    ^TNX\n",
       "Media Diaria 2016-2020        0.0002  0.0008 -0.0012\n",
       "Volatilidad Diaria 2016-2020  0.0123  0.2131  0.0354"
      ]
     },
     "execution_count": 17,
     "metadata": {},
     "output_type": "execute_result"
    }
   ],
   "source": [
    "# Podemos resumir en un DataFrame\n",
    "daily_ret_summary = pd.DataFrame(index=['Media Diaria 2016-2020', 'Volatilidad Diaria 2016-2020'], columns=ticker)\n",
    "daily_ret_summary.loc['Media Diaria 2016-2020']=round(daily_logret.mean(),4)\n",
    "daily_ret_summary.loc['Volatilidad Diaria 2016-2020']=round(daily_logret.std(),4)\n",
    "daily_ret_summary"
   ]
  },
  {
   "cell_type": "code",
   "execution_count": 18,
   "metadata": {},
   "outputs": [
    {
     "data": {
      "text/html": [
       "<div>\n",
       "<style scoped>\n",
       "    .dataframe tbody tr th:only-of-type {\n",
       "        vertical-align: middle;\n",
       "    }\n",
       "\n",
       "    .dataframe tbody tr th {\n",
       "        vertical-align: top;\n",
       "    }\n",
       "\n",
       "    .dataframe thead th {\n",
       "        text-align: right;\n",
       "    }\n",
       "</style>\n",
       "<table border=\"1\" class=\"dataframe\">\n",
       "  <thead>\n",
       "    <tr style=\"text-align: right;\">\n",
       "      <th></th>\n",
       "      <th>^GSPC</th>\n",
       "      <th>MNKS.L</th>\n",
       "      <th>^TNX</th>\n",
       "    </tr>\n",
       "  </thead>\n",
       "  <tbody>\n",
       "    <tr>\n",
       "      <th>Media Anual 2016-2019</th>\n",
       "      <td>0.06</td>\n",
       "      <td>0.19</td>\n",
       "      <td>-0.29</td>\n",
       "    </tr>\n",
       "    <tr>\n",
       "      <th>Vol Anual 2016-2019</th>\n",
       "      <td>0.2</td>\n",
       "      <td>3.38</td>\n",
       "      <td>0.56</td>\n",
       "    </tr>\n",
       "  </tbody>\n",
       "</table>\n",
       "</div>"
      ],
      "text/plain": [
       "                      ^GSPC MNKS.L  ^TNX\n",
       "Media Anual 2016-2019  0.06   0.19 -0.29\n",
       "Vol Anual 2016-2019     0.2   3.38  0.56"
      ]
     },
     "execution_count": 18,
     "metadata": {},
     "output_type": "execute_result"
    }
   ],
   "source": [
    "# Resumen en base anual\n",
    "annual_ret_summary = pd.DataFrame(index=['Media Anual 2016-2019', 'Vol Anual 2016-2019'], columns=ticker)\n",
    "annual_ret_summary.loc['Media Anual 2016-2019']=round(daily_logret.mean()*252,2)\n",
    "annual_ret_summary.loc['Vol Anual 2016-2019']=round(daily_logret.std()*np.sqrt(252),2)\n",
    "annual_ret_summary"
   ]
  },
  {
   "cell_type": "code",
   "execution_count": 19,
   "metadata": {},
   "outputs": [
    {
     "data": {
      "text/html": [
       "<div>\n",
       "<style scoped>\n",
       "    .dataframe tbody tr th:only-of-type {\n",
       "        vertical-align: middle;\n",
       "    }\n",
       "\n",
       "    .dataframe tbody tr th {\n",
       "        vertical-align: top;\n",
       "    }\n",
       "\n",
       "    .dataframe thead th {\n",
       "        text-align: right;\n",
       "    }\n",
       "</style>\n",
       "<table border=\"1\" class=\"dataframe\">\n",
       "  <thead>\n",
       "    <tr style=\"text-align: right;\">\n",
       "      <th></th>\n",
       "      <th>^GSPC</th>\n",
       "      <th>MNKS.L</th>\n",
       "      <th>^TNX</th>\n",
       "    </tr>\n",
       "  </thead>\n",
       "  <tbody>\n",
       "    <tr>\n",
       "      <th>^GSPC</th>\n",
       "      <td>0.000151</td>\n",
       "      <td>0.000227</td>\n",
       "      <td>0.000199</td>\n",
       "    </tr>\n",
       "    <tr>\n",
       "      <th>MNKS.L</th>\n",
       "      <td>0.000227</td>\n",
       "      <td>0.045391</td>\n",
       "      <td>0.000198</td>\n",
       "    </tr>\n",
       "    <tr>\n",
       "      <th>^TNX</th>\n",
       "      <td>0.000199</td>\n",
       "      <td>0.000198</td>\n",
       "      <td>0.001250</td>\n",
       "    </tr>\n",
       "  </tbody>\n",
       "</table>\n",
       "</div>"
      ],
      "text/plain": [
       "           ^GSPC    MNKS.L      ^TNX\n",
       "^GSPC   0.000151  0.000227  0.000199\n",
       "MNKS.L  0.000227  0.045391  0.000198\n",
       "^TNX    0.000199  0.000198  0.001250"
      ]
     },
     "execution_count": 19,
     "metadata": {},
     "output_type": "execute_result"
    }
   ],
   "source": [
    "cov = daily_logret.cov()\n",
    "cov"
   ]
  },
  {
   "cell_type": "code",
   "execution_count": 20,
   "metadata": {},
   "outputs": [
    {
     "data": {
      "text/plain": [
       "(0.19,\n",
       " 0.06,\n",
       " 0.006130000352859497,\n",
       " 3.38,\n",
       " 0.2,\n",
       " 0.00022746082860983149,\n",
       " 0.005686520715245786)"
      ]
     },
     "execution_count": 20,
     "metadata": {},
     "output_type": "execute_result"
    }
   ],
   "source": [
    "rp=annual_ret_summary.iloc[0][1]\n",
    "rm=annual_ret_summary.iloc[0][0]\n",
    "sp=annual_ret_summary.iloc[1][1]\n",
    "sm=annual_ret_summary.iloc[1][0]\n",
    "rf=daily_closes.iloc[-1][2]/100 #Ya que los quotes del yield son en % - porcentaje\n",
    "cov_p = cov.iloc[0][1]\n",
    "beta = cov_p/(sm**2)\n",
    "rp,rm,rf,sp,sm,cov_p,beta\n"
   ]
  },
  {
   "cell_type": "code",
   "execution_count": 21,
   "metadata": {},
   "outputs": [
    {
     "data": {
      "text/html": [
       "<div>\n",
       "<style scoped>\n",
       "    .dataframe tbody tr th:only-of-type {\n",
       "        vertical-align: middle;\n",
       "    }\n",
       "\n",
       "    .dataframe tbody tr th {\n",
       "        vertical-align: top;\n",
       "    }\n",
       "\n",
       "    .dataframe thead th {\n",
       "        text-align: right;\n",
       "    }\n",
       "</style>\n",
       "<table border=\"1\" class=\"dataframe\">\n",
       "  <thead>\n",
       "    <tr style=\"text-align: right;\">\n",
       "      <th></th>\n",
       "      <th>MNSK.L</th>\n",
       "    </tr>\n",
       "  </thead>\n",
       "  <tbody>\n",
       "    <tr>\n",
       "      <th>Sharpe Anual 2016-2019</th>\n",
       "      <td>0.0544</td>\n",
       "    </tr>\n",
       "    <tr>\n",
       "      <th>Treynor Anual 2016-2019</th>\n",
       "      <td>32.3344</td>\n",
       "    </tr>\n",
       "    <tr>\n",
       "      <th>Jensen Anual 2016-2019</th>\n",
       "      <td>0.183564</td>\n",
       "    </tr>\n",
       "    <tr>\n",
       "      <th>M2 Anual 2016-2019</th>\n",
       "      <td>0.0058362</td>\n",
       "    </tr>\n",
       "    <tr>\n",
       "      <th>T2 Anual 2016-2019</th>\n",
       "      <td>33.3523</td>\n",
       "    </tr>\n",
       "  </tbody>\n",
       "</table>\n",
       "</div>"
      ],
      "text/plain": [
       "                            MNSK.L\n",
       "Sharpe Anual 2016-2019      0.0544\n",
       "Treynor Anual 2016-2019    32.3344\n",
       "Jensen Anual 2016-2019    0.183564\n",
       "M2 Anual 2016-2019       0.0058362\n",
       "T2 Anual 2016-2019         33.3523"
      ]
     },
     "execution_count": 21,
     "metadata": {},
     "output_type": "execute_result"
    }
   ],
   "source": [
    "P = [\"MNSK.L\"]\n",
    "benchmarks = pd.DataFrame(index=['Sharpe Anual 2016-2019', 'Treynor Anual 2016-2019', 'Jensen Anual 2016-2019', 'M2 Anual 2016-2019', 'T2 Anual 2016-2019'], columns=P)\n",
    "benchmarks.loc['Sharpe Anual 2016-2019'] = round((rp-rf)/sp,4)\n",
    "benchmarks.loc['Treynor Anual 2016-2019'] = round((rp-rf)/beta,4)\n",
    "benchmarks.loc['Jensen Anual 2016-2019'] = rp - (rf+beta*(rm-rf))\n",
    "benchmarks.loc['M2 Anual 2016-2019'] = rf*(1-(sm/sp)+rp*(sm/sp))\n",
    "benchmarks.loc['T2 Anual 2016-2019'] = rp/beta-rm #Positivo ajustado al nivel de riesgo superaste al mercado\n",
    "benchmarks"
   ]
  },
  {
   "cell_type": "code",
   "execution_count": null,
   "metadata": {},
   "outputs": [],
   "source": []
  },
  {
   "cell_type": "code",
   "execution_count": null,
   "metadata": {},
   "outputs": [],
   "source": []
  },
  {
   "cell_type": "code",
   "execution_count": null,
   "metadata": {},
   "outputs": [],
   "source": []
  }
 ],
 "metadata": {
  "kernelspec": {
   "display_name": "Python 3",
   "language": "python",
   "name": "python3"
  },
  "language_info": {
   "codemirror_mode": {
    "name": "ipython",
    "version": 3
   },
   "file_extension": ".py",
   "mimetype": "text/x-python",
   "name": "python",
   "nbconvert_exporter": "python",
   "pygments_lexer": "ipython3",
   "version": "3.7.6"
  }
 },
 "nbformat": 4,
 "nbformat_minor": 4
}
